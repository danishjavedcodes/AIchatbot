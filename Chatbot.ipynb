{
  "nbformat": 4,
  "nbformat_minor": 0,
  "metadata": {
    "colab": {
      "provenance": []
    },
    "kernelspec": {
      "name": "python3",
      "display_name": "Python 3"
    },
    "language_info": {
      "name": "python"
    }
  },
  "cells": [
    {
      "cell_type": "code",
      "source": [
        "!git clone https://github.com/danishjavedcodes/AIchatbot.git"
      ],
      "metadata": {
        "colab": {
          "base_uri": "https://localhost:8080/"
        },
        "id": "UyNJ-PhuVaZh",
        "outputId": "d579ef68-0dfb-4bb4-901a-5e2d7ba61624"
      },
      "execution_count": 23,
      "outputs": [
        {
          "output_type": "stream",
          "name": "stdout",
          "text": [
            "Cloning into 'AIchatbot'...\n",
            "warning: You appear to have cloned an empty repository.\n"
          ]
        }
      ]
    },
    {
      "cell_type": "code",
      "source": [
        "!pip install openai"
      ],
      "metadata": {
        "colab": {
          "base_uri": "https://localhost:8080/"
        },
        "id": "XQifTarVNkQ3",
        "outputId": "8cf59413-1690-4896-e31d-9f15276cb97e"
      },
      "execution_count": 3,
      "outputs": [
        {
          "output_type": "stream",
          "name": "stdout",
          "text": [
            "Looking in indexes: https://pypi.org/simple, https://us-python.pkg.dev/colab-wheels/public/simple/\n",
            "Collecting openai\n",
            "  Downloading openai-0.27.7-py3-none-any.whl (71 kB)\n",
            "\u001b[2K     \u001b[90m━━━━━━━━━━━━━━━━━━━━━━━━━━━━━━━━━━━━━━━━\u001b[0m \u001b[32m72.0/72.0 kB\u001b[0m \u001b[31m4.9 MB/s\u001b[0m eta \u001b[36m0:00:00\u001b[0m\n",
            "\u001b[?25hRequirement already satisfied: requests>=2.20 in /usr/local/lib/python3.10/dist-packages (from openai) (2.27.1)\n",
            "Requirement already satisfied: tqdm in /usr/local/lib/python3.10/dist-packages (from openai) (4.65.0)\n",
            "Collecting aiohttp (from openai)\n",
            "  Downloading aiohttp-3.8.4-cp310-cp310-manylinux_2_17_x86_64.manylinux2014_x86_64.whl (1.0 MB)\n",
            "\u001b[2K     \u001b[90m━━━━━━━━━━━━━━━━━━━━━━━━━━━━━━━━━━━━━━━━\u001b[0m \u001b[32m1.0/1.0 MB\u001b[0m \u001b[31m39.6 MB/s\u001b[0m eta \u001b[36m0:00:00\u001b[0m\n",
            "\u001b[?25hRequirement already satisfied: urllib3<1.27,>=1.21.1 in /usr/local/lib/python3.10/dist-packages (from requests>=2.20->openai) (1.26.15)\n",
            "Requirement already satisfied: certifi>=2017.4.17 in /usr/local/lib/python3.10/dist-packages (from requests>=2.20->openai) (2022.12.7)\n",
            "Requirement already satisfied: charset-normalizer~=2.0.0 in /usr/local/lib/python3.10/dist-packages (from requests>=2.20->openai) (2.0.12)\n",
            "Requirement already satisfied: idna<4,>=2.5 in /usr/local/lib/python3.10/dist-packages (from requests>=2.20->openai) (3.4)\n",
            "Requirement already satisfied: attrs>=17.3.0 in /usr/local/lib/python3.10/dist-packages (from aiohttp->openai) (23.1.0)\n",
            "Collecting multidict<7.0,>=4.5 (from aiohttp->openai)\n",
            "  Downloading multidict-6.0.4-cp310-cp310-manylinux_2_17_x86_64.manylinux2014_x86_64.whl (114 kB)\n",
            "\u001b[2K     \u001b[90m━━━━━━━━━━━━━━━━━━━━━━━━━━━━━━━━━━━━━━\u001b[0m \u001b[32m114.5/114.5 kB\u001b[0m \u001b[31m15.3 MB/s\u001b[0m eta \u001b[36m0:00:00\u001b[0m\n",
            "\u001b[?25hCollecting async-timeout<5.0,>=4.0.0a3 (from aiohttp->openai)\n",
            "  Downloading async_timeout-4.0.2-py3-none-any.whl (5.8 kB)\n",
            "Collecting yarl<2.0,>=1.0 (from aiohttp->openai)\n",
            "  Downloading yarl-1.9.2-cp310-cp310-manylinux_2_17_x86_64.manylinux2014_x86_64.whl (268 kB)\n",
            "\u001b[2K     \u001b[90m━━━━━━━━━━━━━━━━━━━━━━━━━━━━━━━━━━━━━━\u001b[0m \u001b[32m268.8/268.8 kB\u001b[0m \u001b[31m27.9 MB/s\u001b[0m eta \u001b[36m0:00:00\u001b[0m\n",
            "\u001b[?25hCollecting frozenlist>=1.1.1 (from aiohttp->openai)\n",
            "  Downloading frozenlist-1.3.3-cp310-cp310-manylinux_2_5_x86_64.manylinux1_x86_64.manylinux_2_17_x86_64.manylinux2014_x86_64.whl (149 kB)\n",
            "\u001b[2K     \u001b[90m━━━━━━━━━━━━━━━━━━━━━━━━━━━━━━━━━━━━━━\u001b[0m \u001b[32m149.6/149.6 kB\u001b[0m \u001b[31m17.9 MB/s\u001b[0m eta \u001b[36m0:00:00\u001b[0m\n",
            "\u001b[?25hCollecting aiosignal>=1.1.2 (from aiohttp->openai)\n",
            "  Downloading aiosignal-1.3.1-py3-none-any.whl (7.6 kB)\n",
            "Installing collected packages: multidict, frozenlist, async-timeout, yarl, aiosignal, aiohttp, openai\n",
            "Successfully installed aiohttp-3.8.4 aiosignal-1.3.1 async-timeout-4.0.2 frozenlist-1.3.3 multidict-6.0.4 openai-0.27.7 yarl-1.9.2\n"
          ]
        }
      ]
    },
    {
      "cell_type": "code",
      "execution_count": 12,
      "metadata": {
        "id": "xQEGPDpMMHcH"
      },
      "outputs": [],
      "source": [
        "#knowledge base of personalized questions\n",
        "chat = {\n",
        "    \"Hi\": \"Hello! How can I assist you today?\",\n",
        "    \"How are you?\": \"I'm doing well, thank you! How can I help you?\",\n",
        "    \"what is eziline\" : \"Eziline software house is a tech company which provides various solutions like web development, app development and, SEO ect.\",\n",
        "    \"What can you tell me about Eziline?\": \"Eziline is a software development and IT consulting company that specializes in providing innovative solutions for businesses.\",\n",
        "    \"What services does Eziline offer?\": \"Eziline offers a wide range of services, including web development, mobile app development, software testing, UI/UX design, and IT consulting.\",\n",
        "    \"Where is Eziline located?\": \"Eziline is located at following locations \\nPK Office:304-G, Amna Plaza Pesh Rd Rawalpindi \\nUS Office: 16192 Coastal Highway Lewes, DE \\nUK Office: Intl. House, 776-778 Barking Rd London \\nFR Office:5 avenue Pierre Salvi 95500 Gonesse Paris.\",\n",
        "    \"What industries does Eziline cater to?\": \"Eziline caters to various industries such as healthcare, e-commerce, finance, education, and more.\",\n",
        "    \"Who is CEO of Eziline?\": \"CEO of eziline is Ismail Shah.\",\n",
        "    \"What is the mission of Eziline?\": \"The mission of Eziline is to empower businesses with cutting-edge technology solutions and exceptional customer service.\",\n",
        "    \"What sets Eziline apart from other companies?\": \"Eziline stands out for its commitment to quality, innovation, and client satisfaction. We strive to deliver customized solutions that meet our clients' unique requirements.\",\n",
        "    \"How can I contact Eziline?\": \"You can contact Eziline by filling out the contact form on our website or by calling our phone number at [phone number].\",\n",
        "    \"What are Eziline's office hours?\": \"Eziline's office hours are 9am to 5pm.\",\n",
        "    \"Is there a support email for Eziline?\": \"Yes, you can reach out to our support team by emailing info@eziline.com.\",\n",
        "    \"Can I schedule a meeting with Eziline?\": \"Certainly! We would be happy to schedule a meeting with you. Please provide your preferred date and time, and we will get back to you to confirm.\"\n",
        "}\n"
      ]
    },
    {
      "cell_type": "code",
      "source": [
        "#importing openai to make chatbot smart with use of chatgbt\n",
        "import openai\n",
        "openai.api_key = 'sk-#################'\n",
        "messages = []"
      ],
      "metadata": {
        "id": "t_BTGNGtNccY"
      },
      "execution_count": 13,
      "outputs": []
    },
    {
      "cell_type": "code",
      "source": [
        "def chat_bot(user_input):\n",
        "  messages.append({\"role\": \"user\", \"content\": user_input})\n",
        "  for key, value in chat.items():\n",
        "    if user_input.lower() in key.lower():\n",
        "        messages.append({\"role\": \"assistant\", \"content\": value})\n",
        "        return value\n",
        "  else:\n",
        "    response = openai.ChatCompletion.create(\n",
        "        model=\"gpt-3.5-turbo\",\n",
        "        messages=messages)\n",
        "    reply = response[\"choices\"][0][\"message\"][\"content\"]\n",
        "    messages.append({\"role\": \"assistant\", \"content\": reply})\n",
        "    return reply\n",
        "\n",
        "while True:\n",
        "    user_input = input(\"User: \")\n",
        "    if user_input.lower() == \"bye\":\n",
        "        print(\"ChatBot: Goodbye! Have a great day!\")\n",
        "        break\n",
        "    response = chat_bot(user_input)\n",
        "    print(\"ChatBot:\", response)"
      ],
      "metadata": {
        "colab": {
          "base_uri": "https://localhost:8080/"
        },
        "id": "5lAeLKXXNrUc",
        "outputId": "3fc93c8d-6e76-4663-f385-33b4374183f5"
      },
      "execution_count": 22,
      "outputs": [
        {
          "output_type": "stream",
          "name": "stdout",
          "text": [
            "User: Hi\n",
            "ChatBot: Hello! How can I assist you today?\n",
            "User: what is eziline\n",
            "ChatBot: Eziline software house is a tech company which provides various solutions like web development, app development and, SEO ect.\n",
            "User: who is CEO of eziline\n",
            "ChatBot: CEO of eziline is Ismail Shah.\n",
            "User: Where is Eziline located?\n",
            "ChatBot: Eziline is located at following locations \n",
            "PK Office:304-G, Amna Plaza Pesh Rd Rawalpindi \n",
            "US Office: 16192 Coastal Highway Lewes, DE \n",
            "UK Office: Intl. House, 776-778 Barking Rd London \n",
            "FR Office:5 avenue Pierre Salvi 95500 Gonesse Paris.\n",
            "User: Where is pakistan?\n",
            "ChatBot: Pakistan is located in South Asia, bordered by India to the east, Afghanistan to the west and north, Iran to the southwest, and China to the northeast. It is also bounded by the Arabian Sea to the south, and has a coastline of around 1,046 km. The capital of Pakistan is Islamabad, and the largest city is Karachi.\n",
            "User: bye\n",
            "ChatBot: Goodbye! Have a great day!\n"
          ]
        }
      ]
    },
    {
      "cell_type": "code",
      "source": [],
      "metadata": {
        "id": "pY4tGnkMOugE"
      },
      "execution_count": 24,
      "outputs": []
    },
    {
      "cell_type": "code",
      "source": [],
      "metadata": {
        "id": "Xc-WSxTtV4fN"
      },
      "execution_count": null,
      "outputs": []
    }
  ]
}